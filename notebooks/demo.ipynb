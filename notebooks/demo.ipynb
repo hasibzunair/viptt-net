{
 "cells": [
  {
   "cell_type": "markdown",
   "metadata": {
    "id": "oe_q3dQ5kbXu"
   },
   "source": [
    "## Make predictions on the ImageCLEF test dataset (421 samples)"
   ]
  },
  {
   "cell_type": "code",
   "execution_count": 1,
   "metadata": {
    "colab": {
     "base_uri": "https://localhost:8080/"
    },
    "executionInfo": {
     "elapsed": 25606,
     "status": "ok",
     "timestamp": 1620242860860,
     "user": {
      "displayName": "Hasib ZUNAIR -CANADA REMOTE SERVICES-",
      "photoUrl": "https://lh3.googleusercontent.com/a-/AOh14Gg5t1UlMQuu4THYm6vlk8LrS99LnrK8kLu6oP0g=s64",
      "userId": "15388620792406481246"
     },
     "user_tz": 240
    },
    "id": "8vAbspCAkfXb",
    "outputId": "b2fb0668-137d-461a-9ded-bc038b29e25c"
   },
   "outputs": [],
   "source": [
    "colab = False\n",
    "if colab:\n",
    "    # Mount drive\n",
    "    from google.colab import drive\n",
    "    drive.mount('/content/gdrive')\n",
    "    # Set path to working directory\n",
    "    import sys\n",
    "    sys.path.append('/content/gdrive/My Drive/ImageCLEF2021/')\n",
    "    %cd /content/gdrive/My\\ Drive/ImageCLEF2021/"
   ]
  },
  {
   "cell_type": "code",
   "execution_count": 3,
   "metadata": {
    "colab": {
     "base_uri": "https://localhost:8080/"
    },
    "executionInfo": {
     "elapsed": 244,
     "status": "ok",
     "timestamp": 1620242914462,
     "user": {
      "displayName": "Hasib ZUNAIR -CANADA REMOTE SERVICES-",
      "photoUrl": "https://lh3.googleusercontent.com/a-/AOh14Gg5t1UlMQuu4THYm6vlk8LrS99LnrK8kLu6oP0g=s64",
      "userId": "15388620792406481246"
     },
     "user_tz": 240
    },
    "id": "0l85lKdhkfaU",
    "outputId": "4220b737-c953-4b17-fdb4-7348b96f3cfc"
   },
   "outputs": [
    {
     "name": "stdout",
     "output_type": "stream",
     "text": [
      "['TST_0001.nii.gz', 'TST_0002.nii.gz', 'TST_0003.nii.gz']\n"
     ]
    }
   ],
   "source": [
    "import os\n",
    "os.environ['CUDA_VISIBLE_DEVICES'] = '-1'\n",
    "import numpy as np\n",
    "import pickle\n",
    "import tensorflow as tf\n",
    "from tqdm import tqdm\n",
    "from tensorflow.keras.models import load_model\n",
    "\n",
    "\n",
    "CFG_NAME = \"augmented\"\n",
    "\n",
    "ROOT_DIR = os.path.abspath(\"../\")\n",
    "LOG_PATH = os.path.join(ROOT_DIR, \"logs\", CFG_NAME)\n",
    "\n",
    "DATASET_PATH = os.path.join(ROOT_DIR, \"dataset/\")\n",
    "TEST_VOLUMES_PATH = os.path.join(DATASET_PATH, \"test_volumes_numpy\")\n",
    "PATIENT_NAMES_PATH = os.path.join(DATASET_PATH, \"patient_names.txt\")\n",
    "\n",
    "with open(PATIENT_NAMES_PATH, \"rb\") as fp:\n",
    "  PATIENT_NAMES_ = pickle.load(fp)\n",
    "\n",
    "PATIENT_NAMES = [x+\".nii.gz\" for x in PATIENT_NAMES_]\n",
    "print(PATIENT_NAMES[:3])"
   ]
  },
  {
   "cell_type": "markdown",
   "metadata": {
    "id": "ObR_qztdnlPR"
   },
   "source": [
    "## Helpers"
   ]
  },
  {
   "cell_type": "code",
   "execution_count": 4,
   "metadata": {
    "executionInfo": {
     "elapsed": 477,
     "status": "ok",
     "timestamp": 1620242874403,
     "user": {
      "displayName": "Hasib ZUNAIR -CANADA REMOTE SERVICES-",
      "photoUrl": "https://lh3.googleusercontent.com/a-/AOh14Gg5t1UlMQuu4THYm6vlk8LrS99LnrK8kLu6oP0g=s64",
      "userId": "15388620792406481246"
     },
     "user_tz": 240
    },
    "id": "MAAJdXs4kfc7"
   },
   "outputs": [],
   "source": [
    "def get_number(filename):\n",
    "  return int(filename[:filename.find('.')])\n",
    "        \n",
    "def sort_paths(paths):\n",
    "  paths.sort(key = get_number)\n",
    "  return paths"
   ]
  },
  {
   "cell_type": "markdown",
   "metadata": {
    "id": "Gofoyuc1rEXV"
   },
   "source": [
    "### Get test data"
   ]
  },
  {
   "cell_type": "code",
   "execution_count": 5,
   "metadata": {
    "colab": {
     "base_uri": "https://localhost:8080/"
    },
    "executionInfo": {
     "elapsed": 3724,
     "status": "ok",
     "timestamp": 1620242878289,
     "user": {
      "displayName": "Hasib ZUNAIR -CANADA REMOTE SERVICES-",
      "photoUrl": "https://lh3.googleusercontent.com/a-/AOh14Gg5t1UlMQuu4THYm6vlk8LrS99LnrK8kLu6oP0g=s64",
      "userId": "15388620792406481246"
     },
     "user_tz": 240
    },
    "id": "3L9rKALSkffb",
    "outputId": "766be899-7702-42ef-c6bd-26eb6023c4bc"
   },
   "outputs": [
    {
     "name": "stdout",
     "output_type": "stream",
     "text": [
      "['/home/hz/tbt-classification/dataset/test_volumes_numpy/1.npy', '/home/hz/tbt-classification/dataset/test_volumes_numpy/2.npy', '/home/hz/tbt-classification/dataset/test_volumes_numpy/3.npy']\n"
     ]
    }
   ],
   "source": [
    "# 1.npy, 2.npy, 3.npy etc.\n",
    "volume_path_ = sort_paths(os.listdir(TEST_VOLUMES_PATH))\n",
    "# Sorted patient names in folder\n",
    "volume_paths = [os.path.join(TEST_VOLUMES_PATH, image_id) for image_id in volume_path_]\n",
    "\n",
    "print(volume_paths[:3])"
   ]
  },
  {
   "cell_type": "markdown",
   "metadata": {
    "id": "Dm-cSDMPHg9E"
   },
   "source": [
    "### Check images"
   ]
  },
  {
   "cell_type": "code",
   "execution_count": 6,
   "metadata": {
    "colab": {
     "base_uri": "https://localhost:8080/"
    },
    "executionInfo": {
     "elapsed": 3749,
     "status": "ok",
     "timestamp": 1620242879545,
     "user": {
      "displayName": "Hasib ZUNAIR -CANADA REMOTE SERVICES-",
      "photoUrl": "https://lh3.googleusercontent.com/a-/AOh14Gg5t1UlMQuu4THYm6vlk8LrS99LnrK8kLu6oP0g=s64",
      "userId": "15388620792406481246"
     },
     "user_tz": 240
    },
    "id": "SVqinmttkfm8",
    "outputId": "0a0afd63-716b-43df-e9da-3d802c069bf8"
   },
   "outputs": [
    {
     "data": {
      "text/plain": [
       "(70, 224, 224, 1)"
      ]
     },
     "execution_count": 6,
     "metadata": {},
     "output_type": "execute_result"
    }
   ],
   "source": [
    "ct = 200\n",
    "image = np.load(volume_paths[ct])\n",
    "image.shape"
   ]
  },
  {
   "cell_type": "code",
   "execution_count": 7,
   "metadata": {
    "colab": {
     "base_uri": "https://localhost:8080/"
    },
    "executionInfo": {
     "elapsed": 424,
     "status": "ok",
     "timestamp": 1620242882798,
     "user": {
      "displayName": "Hasib ZUNAIR -CANADA REMOTE SERVICES-",
      "photoUrl": "https://lh3.googleusercontent.com/a-/AOh14Gg5t1UlMQuu4THYm6vlk8LrS99LnrK8kLu6oP0g=s64",
      "userId": "15388620792406481246"
     },
     "user_tz": 240
    },
    "id": "9884wuzqkpgz",
    "outputId": "cf1b9e8a-7a4e-4e02-b753-67fcc1898c5a"
   },
   "outputs": [
    {
     "data": {
      "text/plain": [
       "(0.0, 1.0)"
      ]
     },
     "execution_count": 7,
     "metadata": {},
     "output_type": "execute_result"
    }
   ],
   "source": [
    "np.min(image), np.max(image)"
   ]
  },
  {
   "cell_type": "code",
   "execution_count": 8,
   "metadata": {
    "colab": {
     "base_uri": "https://localhost:8080/"
    },
    "executionInfo": {
     "elapsed": 613,
     "status": "ok",
     "timestamp": 1620242884156,
     "user": {
      "displayName": "Hasib ZUNAIR -CANADA REMOTE SERVICES-",
      "photoUrl": "https://lh3.googleusercontent.com/a-/AOh14Gg5t1UlMQuu4THYm6vlk8LrS99LnrK8kLu6oP0g=s64",
      "userId": "15388620792406481246"
     },
     "user_tz": 240
    },
    "id": "63d_eNIrkpjM",
    "outputId": "2d6fd0fc-c038-4280-ae59-0b4dfcb9fb95"
   },
   "outputs": [
    {
     "data": {
      "text/plain": [
       "array([0.0000000e+00, 1.4012985e-45, 2.8025969e-45, ..., 9.9999970e-01,\n",
       "       9.9999976e-01, 1.0000000e+00], dtype=float32)"
      ]
     },
     "execution_count": 8,
     "metadata": {},
     "output_type": "execute_result"
    }
   ],
   "source": [
    "np.unique(image)"
   ]
  },
  {
   "cell_type": "markdown",
   "metadata": {
    "id": "XU4vCN5GrUO5"
   },
   "source": [
    "### Load model"
   ]
  },
  {
   "cell_type": "code",
   "execution_count": 11,
   "metadata": {},
   "outputs": [],
   "source": [
    "from tensorflow.keras.models import load_model\n",
    "from keras.utils.data_utils import get_file\n",
    "\n",
    "def get_model():\n",
    "    URL = \"https://github.com/hasibzunair/ViPTT-Net/releases/tag/v0.0.1/download/ViPTT-Net-CLEF-TBT.h5\"\n",
    "    weights_path = get_file(\"ViPTT-Net-CLEF-TBT.h5\", URL)\n",
    "    model = load_model(weights_path, compile = False)\n",
    "    return model"
   ]
  },
  {
   "cell_type": "code",
   "execution_count": 12,
   "metadata": {
    "colab": {
     "base_uri": "https://localhost:8080/"
    },
    "executionInfo": {
     "elapsed": 5455,
     "status": "ok",
     "timestamp": 1620242924975,
     "user": {
      "displayName": "Hasib ZUNAIR -CANADA REMOTE SERVICES-",
      "photoUrl": "https://lh3.googleusercontent.com/a-/AOh14Gg5t1UlMQuu4THYm6vlk8LrS99LnrK8kLu6oP0g=s64",
      "userId": "15388620792406481246"
     },
     "user_tz": 240
    },
    "id": "Jb4cSoPekfue",
    "outputId": "a92be47f-86c2-4857-8b99-bea48f902603"
   },
   "outputs": [
    {
     "name": "stdout",
     "output_type": "stream",
     "text": [
      "Downloading data from https://github.com/hasibzunair/ViPTT-Net/releases/tag/v0.0.1/download/ViPTT-Net-CLEF-TBT.h5\n"
     ]
    },
    {
     "ename": "Exception",
     "evalue": "URL fetch failure on https://github.com/hasibzunair/ViPTT-Net/releases/tag/v0.0.1/download/ViPTT-Net-CLEF-TBT.h5 : 404 -- Not Found",
     "output_type": "error",
     "traceback": [
      "\u001b[0;31m---------------------------------------------------------------------------\u001b[0m",
      "\u001b[0;31mHTTPError\u001b[0m                                 Traceback (most recent call last)",
      "\u001b[0;32m~/anaconda3/envs/seg/lib/python3.6/site-packages/keras/utils/data_utils.py\u001b[0m in \u001b[0;36mget_file\u001b[0;34m(fname, origin, untar, md5_hash, file_hash, cache_subdir, hash_algorithm, extract, archive_format, cache_dir)\u001b[0m\n\u001b[1;32m    224\u001b[0m             \u001b[0;32mtry\u001b[0m\u001b[0;34m:\u001b[0m\u001b[0;34m\u001b[0m\u001b[0;34m\u001b[0m\u001b[0m\n\u001b[0;32m--> 225\u001b[0;31m                 \u001b[0murlretrieve\u001b[0m\u001b[0;34m(\u001b[0m\u001b[0morigin\u001b[0m\u001b[0;34m,\u001b[0m \u001b[0mfpath\u001b[0m\u001b[0;34m,\u001b[0m \u001b[0mdl_progress\u001b[0m\u001b[0;34m)\u001b[0m\u001b[0;34m\u001b[0m\u001b[0;34m\u001b[0m\u001b[0m\n\u001b[0m\u001b[1;32m    226\u001b[0m             \u001b[0;32mexcept\u001b[0m \u001b[0mHTTPError\u001b[0m \u001b[0;32mas\u001b[0m \u001b[0me\u001b[0m\u001b[0;34m:\u001b[0m\u001b[0;34m\u001b[0m\u001b[0;34m\u001b[0m\u001b[0m\n",
      "\u001b[0;32m~/anaconda3/envs/seg/lib/python3.6/urllib/request.py\u001b[0m in \u001b[0;36murlretrieve\u001b[0;34m(url, filename, reporthook, data)\u001b[0m\n\u001b[1;32m    247\u001b[0m \u001b[0;34m\u001b[0m\u001b[0m\n\u001b[0;32m--> 248\u001b[0;31m     \u001b[0;32mwith\u001b[0m \u001b[0mcontextlib\u001b[0m\u001b[0;34m.\u001b[0m\u001b[0mclosing\u001b[0m\u001b[0;34m(\u001b[0m\u001b[0murlopen\u001b[0m\u001b[0;34m(\u001b[0m\u001b[0murl\u001b[0m\u001b[0;34m,\u001b[0m \u001b[0mdata\u001b[0m\u001b[0;34m)\u001b[0m\u001b[0;34m)\u001b[0m \u001b[0;32mas\u001b[0m \u001b[0mfp\u001b[0m\u001b[0;34m:\u001b[0m\u001b[0;34m\u001b[0m\u001b[0;34m\u001b[0m\u001b[0m\n\u001b[0m\u001b[1;32m    249\u001b[0m         \u001b[0mheaders\u001b[0m \u001b[0;34m=\u001b[0m \u001b[0mfp\u001b[0m\u001b[0;34m.\u001b[0m\u001b[0minfo\u001b[0m\u001b[0;34m(\u001b[0m\u001b[0;34m)\u001b[0m\u001b[0;34m\u001b[0m\u001b[0;34m\u001b[0m\u001b[0m\n",
      "\u001b[0;32m~/anaconda3/envs/seg/lib/python3.6/urllib/request.py\u001b[0m in \u001b[0;36murlopen\u001b[0;34m(url, data, timeout, cafile, capath, cadefault, context)\u001b[0m\n\u001b[1;32m    222\u001b[0m         \u001b[0mopener\u001b[0m \u001b[0;34m=\u001b[0m \u001b[0m_opener\u001b[0m\u001b[0;34m\u001b[0m\u001b[0;34m\u001b[0m\u001b[0m\n\u001b[0;32m--> 223\u001b[0;31m     \u001b[0;32mreturn\u001b[0m \u001b[0mopener\u001b[0m\u001b[0;34m.\u001b[0m\u001b[0mopen\u001b[0m\u001b[0;34m(\u001b[0m\u001b[0murl\u001b[0m\u001b[0;34m,\u001b[0m \u001b[0mdata\u001b[0m\u001b[0;34m,\u001b[0m \u001b[0mtimeout\u001b[0m\u001b[0;34m)\u001b[0m\u001b[0;34m\u001b[0m\u001b[0;34m\u001b[0m\u001b[0m\n\u001b[0m\u001b[1;32m    224\u001b[0m \u001b[0;34m\u001b[0m\u001b[0m\n",
      "\u001b[0;32m~/anaconda3/envs/seg/lib/python3.6/urllib/request.py\u001b[0m in \u001b[0;36mopen\u001b[0;34m(self, fullurl, data, timeout)\u001b[0m\n\u001b[1;32m    531\u001b[0m             \u001b[0mmeth\u001b[0m \u001b[0;34m=\u001b[0m \u001b[0mgetattr\u001b[0m\u001b[0;34m(\u001b[0m\u001b[0mprocessor\u001b[0m\u001b[0;34m,\u001b[0m \u001b[0mmeth_name\u001b[0m\u001b[0;34m)\u001b[0m\u001b[0;34m\u001b[0m\u001b[0;34m\u001b[0m\u001b[0m\n\u001b[0;32m--> 532\u001b[0;31m             \u001b[0mresponse\u001b[0m \u001b[0;34m=\u001b[0m \u001b[0mmeth\u001b[0m\u001b[0;34m(\u001b[0m\u001b[0mreq\u001b[0m\u001b[0;34m,\u001b[0m \u001b[0mresponse\u001b[0m\u001b[0;34m)\u001b[0m\u001b[0;34m\u001b[0m\u001b[0;34m\u001b[0m\u001b[0m\n\u001b[0m\u001b[1;32m    533\u001b[0m \u001b[0;34m\u001b[0m\u001b[0m\n",
      "\u001b[0;32m~/anaconda3/envs/seg/lib/python3.6/urllib/request.py\u001b[0m in \u001b[0;36mhttp_response\u001b[0;34m(self, request, response)\u001b[0m\n\u001b[1;32m    641\u001b[0m             response = self.parent.error(\n\u001b[0;32m--> 642\u001b[0;31m                 'http', request, response, code, msg, hdrs)\n\u001b[0m\u001b[1;32m    643\u001b[0m \u001b[0;34m\u001b[0m\u001b[0m\n",
      "\u001b[0;32m~/anaconda3/envs/seg/lib/python3.6/urllib/request.py\u001b[0m in \u001b[0;36merror\u001b[0;34m(self, proto, *args)\u001b[0m\n\u001b[1;32m    569\u001b[0m             \u001b[0margs\u001b[0m \u001b[0;34m=\u001b[0m \u001b[0;34m(\u001b[0m\u001b[0mdict\u001b[0m\u001b[0;34m,\u001b[0m \u001b[0;34m'default'\u001b[0m\u001b[0;34m,\u001b[0m \u001b[0;34m'http_error_default'\u001b[0m\u001b[0;34m)\u001b[0m \u001b[0;34m+\u001b[0m \u001b[0morig_args\u001b[0m\u001b[0;34m\u001b[0m\u001b[0;34m\u001b[0m\u001b[0m\n\u001b[0;32m--> 570\u001b[0;31m             \u001b[0;32mreturn\u001b[0m \u001b[0mself\u001b[0m\u001b[0;34m.\u001b[0m\u001b[0m_call_chain\u001b[0m\u001b[0;34m(\u001b[0m\u001b[0;34m*\u001b[0m\u001b[0margs\u001b[0m\u001b[0;34m)\u001b[0m\u001b[0;34m\u001b[0m\u001b[0;34m\u001b[0m\u001b[0m\n\u001b[0m\u001b[1;32m    571\u001b[0m \u001b[0;34m\u001b[0m\u001b[0m\n",
      "\u001b[0;32m~/anaconda3/envs/seg/lib/python3.6/urllib/request.py\u001b[0m in \u001b[0;36m_call_chain\u001b[0;34m(self, chain, kind, meth_name, *args)\u001b[0m\n\u001b[1;32m    503\u001b[0m             \u001b[0mfunc\u001b[0m \u001b[0;34m=\u001b[0m \u001b[0mgetattr\u001b[0m\u001b[0;34m(\u001b[0m\u001b[0mhandler\u001b[0m\u001b[0;34m,\u001b[0m \u001b[0mmeth_name\u001b[0m\u001b[0;34m)\u001b[0m\u001b[0;34m\u001b[0m\u001b[0;34m\u001b[0m\u001b[0m\n\u001b[0;32m--> 504\u001b[0;31m             \u001b[0mresult\u001b[0m \u001b[0;34m=\u001b[0m \u001b[0mfunc\u001b[0m\u001b[0;34m(\u001b[0m\u001b[0;34m*\u001b[0m\u001b[0margs\u001b[0m\u001b[0;34m)\u001b[0m\u001b[0;34m\u001b[0m\u001b[0;34m\u001b[0m\u001b[0m\n\u001b[0m\u001b[1;32m    505\u001b[0m             \u001b[0;32mif\u001b[0m \u001b[0mresult\u001b[0m \u001b[0;32mis\u001b[0m \u001b[0;32mnot\u001b[0m \u001b[0;32mNone\u001b[0m\u001b[0;34m:\u001b[0m\u001b[0;34m\u001b[0m\u001b[0;34m\u001b[0m\u001b[0m\n",
      "\u001b[0;32m~/anaconda3/envs/seg/lib/python3.6/urllib/request.py\u001b[0m in \u001b[0;36mhttp_error_default\u001b[0;34m(self, req, fp, code, msg, hdrs)\u001b[0m\n\u001b[1;32m    649\u001b[0m     \u001b[0;32mdef\u001b[0m \u001b[0mhttp_error_default\u001b[0m\u001b[0;34m(\u001b[0m\u001b[0mself\u001b[0m\u001b[0;34m,\u001b[0m \u001b[0mreq\u001b[0m\u001b[0;34m,\u001b[0m \u001b[0mfp\u001b[0m\u001b[0;34m,\u001b[0m \u001b[0mcode\u001b[0m\u001b[0;34m,\u001b[0m \u001b[0mmsg\u001b[0m\u001b[0;34m,\u001b[0m \u001b[0mhdrs\u001b[0m\u001b[0;34m)\u001b[0m\u001b[0;34m:\u001b[0m\u001b[0;34m\u001b[0m\u001b[0;34m\u001b[0m\u001b[0m\n\u001b[0;32m--> 650\u001b[0;31m         \u001b[0;32mraise\u001b[0m \u001b[0mHTTPError\u001b[0m\u001b[0;34m(\u001b[0m\u001b[0mreq\u001b[0m\u001b[0;34m.\u001b[0m\u001b[0mfull_url\u001b[0m\u001b[0;34m,\u001b[0m \u001b[0mcode\u001b[0m\u001b[0;34m,\u001b[0m \u001b[0mmsg\u001b[0m\u001b[0;34m,\u001b[0m \u001b[0mhdrs\u001b[0m\u001b[0;34m,\u001b[0m \u001b[0mfp\u001b[0m\u001b[0;34m)\u001b[0m\u001b[0;34m\u001b[0m\u001b[0;34m\u001b[0m\u001b[0m\n\u001b[0m\u001b[1;32m    651\u001b[0m \u001b[0;34m\u001b[0m\u001b[0m\n",
      "\u001b[0;31mHTTPError\u001b[0m: HTTP Error 404: Not Found",
      "\nDuring handling of the above exception, another exception occurred:\n",
      "\u001b[0;31mException\u001b[0m                                 Traceback (most recent call last)",
      "\u001b[0;32m<ipython-input-12-89f439a03624>\u001b[0m in \u001b[0;36m<module>\u001b[0;34m\u001b[0m\n\u001b[1;32m      1\u001b[0m \u001b[0mmodel\u001b[0m \u001b[0;34m=\u001b[0m \u001b[0;32mNone\u001b[0m\u001b[0;34m\u001b[0m\u001b[0;34m\u001b[0m\u001b[0m\n\u001b[0;32m----> 2\u001b[0;31m \u001b[0mmodel\u001b[0m \u001b[0;34m=\u001b[0m \u001b[0mget_model\u001b[0m\u001b[0;34m(\u001b[0m\u001b[0;34m)\u001b[0m\u001b[0;34m\u001b[0m\u001b[0;34m\u001b[0m\u001b[0m\n\u001b[0m\u001b[1;32m      3\u001b[0m \u001b[0mmodel\u001b[0m\u001b[0;34m.\u001b[0m\u001b[0msummary\u001b[0m\u001b[0;34m(\u001b[0m\u001b[0;34m)\u001b[0m\u001b[0;34m\u001b[0m\u001b[0;34m\u001b[0m\u001b[0m\n",
      "\u001b[0;32m<ipython-input-11-b6a6571a4611>\u001b[0m in \u001b[0;36mget_model\u001b[0;34m()\u001b[0m\n\u001b[1;32m      4\u001b[0m \u001b[0;32mdef\u001b[0m \u001b[0mget_model\u001b[0m\u001b[0;34m(\u001b[0m\u001b[0;34m)\u001b[0m\u001b[0;34m:\u001b[0m\u001b[0;34m\u001b[0m\u001b[0;34m\u001b[0m\u001b[0m\n\u001b[1;32m      5\u001b[0m     \u001b[0mURL\u001b[0m \u001b[0;34m=\u001b[0m \u001b[0;34m\"https://github.com/hasibzunair/ViPTT-Net/releases/tag/v0.0.1/download/ViPTT-Net-CLEF-TBT.h5\"\u001b[0m\u001b[0;34m\u001b[0m\u001b[0;34m\u001b[0m\u001b[0m\n\u001b[0;32m----> 6\u001b[0;31m     \u001b[0mweights_path\u001b[0m \u001b[0;34m=\u001b[0m \u001b[0mget_file\u001b[0m\u001b[0;34m(\u001b[0m\u001b[0;34m\"ViPTT-Net-CLEF-TBT.h5\"\u001b[0m\u001b[0;34m,\u001b[0m \u001b[0mURL\u001b[0m\u001b[0;34m)\u001b[0m\u001b[0;34m\u001b[0m\u001b[0;34m\u001b[0m\u001b[0m\n\u001b[0m\u001b[1;32m      7\u001b[0m     \u001b[0mmodel\u001b[0m \u001b[0;34m=\u001b[0m \u001b[0mload_model\u001b[0m\u001b[0;34m(\u001b[0m\u001b[0mweights_path\u001b[0m\u001b[0;34m,\u001b[0m \u001b[0mcompile\u001b[0m \u001b[0;34m=\u001b[0m \u001b[0;32mFalse\u001b[0m\u001b[0;34m)\u001b[0m\u001b[0;34m\u001b[0m\u001b[0;34m\u001b[0m\u001b[0m\n\u001b[1;32m      8\u001b[0m     \u001b[0;32mreturn\u001b[0m \u001b[0mmodel\u001b[0m\u001b[0;34m\u001b[0m\u001b[0;34m\u001b[0m\u001b[0m\n",
      "\u001b[0;32m~/anaconda3/envs/seg/lib/python3.6/site-packages/keras/utils/data_utils.py\u001b[0m in \u001b[0;36mget_file\u001b[0;34m(fname, origin, untar, md5_hash, file_hash, cache_subdir, hash_algorithm, extract, archive_format, cache_dir)\u001b[0m\n\u001b[1;32m    225\u001b[0m                 \u001b[0murlretrieve\u001b[0m\u001b[0;34m(\u001b[0m\u001b[0morigin\u001b[0m\u001b[0;34m,\u001b[0m \u001b[0mfpath\u001b[0m\u001b[0;34m,\u001b[0m \u001b[0mdl_progress\u001b[0m\u001b[0;34m)\u001b[0m\u001b[0;34m\u001b[0m\u001b[0;34m\u001b[0m\u001b[0m\n\u001b[1;32m    226\u001b[0m             \u001b[0;32mexcept\u001b[0m \u001b[0mHTTPError\u001b[0m \u001b[0;32mas\u001b[0m \u001b[0me\u001b[0m\u001b[0;34m:\u001b[0m\u001b[0;34m\u001b[0m\u001b[0;34m\u001b[0m\u001b[0m\n\u001b[0;32m--> 227\u001b[0;31m                 \u001b[0;32mraise\u001b[0m \u001b[0mException\u001b[0m\u001b[0;34m(\u001b[0m\u001b[0merror_msg\u001b[0m\u001b[0;34m.\u001b[0m\u001b[0mformat\u001b[0m\u001b[0;34m(\u001b[0m\u001b[0morigin\u001b[0m\u001b[0;34m,\u001b[0m \u001b[0me\u001b[0m\u001b[0;34m.\u001b[0m\u001b[0mcode\u001b[0m\u001b[0;34m,\u001b[0m \u001b[0me\u001b[0m\u001b[0;34m.\u001b[0m\u001b[0mmsg\u001b[0m\u001b[0;34m)\u001b[0m\u001b[0;34m)\u001b[0m\u001b[0;34m\u001b[0m\u001b[0;34m\u001b[0m\u001b[0m\n\u001b[0m\u001b[1;32m    228\u001b[0m             \u001b[0;32mexcept\u001b[0m \u001b[0mURLError\u001b[0m \u001b[0;32mas\u001b[0m \u001b[0me\u001b[0m\u001b[0;34m:\u001b[0m\u001b[0;34m\u001b[0m\u001b[0;34m\u001b[0m\u001b[0m\n\u001b[1;32m    229\u001b[0m                 \u001b[0;32mraise\u001b[0m \u001b[0mException\u001b[0m\u001b[0;34m(\u001b[0m\u001b[0merror_msg\u001b[0m\u001b[0;34m.\u001b[0m\u001b[0mformat\u001b[0m\u001b[0;34m(\u001b[0m\u001b[0morigin\u001b[0m\u001b[0;34m,\u001b[0m \u001b[0me\u001b[0m\u001b[0;34m.\u001b[0m\u001b[0merrno\u001b[0m\u001b[0;34m,\u001b[0m \u001b[0me\u001b[0m\u001b[0;34m.\u001b[0m\u001b[0mreason\u001b[0m\u001b[0;34m)\u001b[0m\u001b[0;34m)\u001b[0m\u001b[0;34m\u001b[0m\u001b[0;34m\u001b[0m\u001b[0m\n",
      "\u001b[0;31mException\u001b[0m: URL fetch failure on https://github.com/hasibzunair/ViPTT-Net/releases/tag/v0.0.1/download/ViPTT-Net-CLEF-TBT.h5 : 404 -- Not Found"
     ]
    }
   ],
   "source": [
    "model = None\n",
    "model = get_model()\n",
    "model.summary()"
   ]
  },
  {
   "cell_type": "markdown",
   "metadata": {
    "id": "5qQdlcfarV20"
   },
   "source": [
    "### Make predictions"
   ]
  },
  {
   "cell_type": "code",
   "execution_count": 12,
   "metadata": {
    "colab": {
     "base_uri": "https://localhost:8080/"
    },
    "executionInfo": {
     "elapsed": 635749,
     "status": "ok",
     "timestamp": 1620243562107,
     "user": {
      "displayName": "Hasib ZUNAIR -CANADA REMOTE SERVICES-",
      "photoUrl": "https://lh3.googleusercontent.com/a-/AOh14Gg5t1UlMQuu4THYm6vlk8LrS99LnrK8kLu6oP0g=s64",
      "userId": "15388620792406481246"
     },
     "user_tz": 240
    },
    "id": "nmkzRBATkfxK",
    "outputId": "31ba743d-dc6a-4aa3-d83d-982482fe80e5"
   },
   "outputs": [
    {
     "name": "stderr",
     "output_type": "stream",
     "text": [
      "100%|██████████| 421/421 [10:35<00:00,  1.51s/it]"
     ]
    },
    {
     "name": "stdout",
     "output_type": "stream",
     "text": [
      "[2, 1, 5]\n",
      "421\n"
     ]
    },
    {
     "name": "stderr",
     "output_type": "stream",
     "text": [
      "\n"
     ]
    }
   ],
   "source": [
    "class_names = [1,2,3,4,5]\n",
    "class_dict = {i: cat for (i, cat) in enumerate(class_names)}\n",
    "\n",
    "predictions = []\n",
    "\n",
    "for path in tqdm(volume_paths):\n",
    "    features = np.load(path)\n",
    "    features = np.expand_dims(features, axis=0)\n",
    "    pred = model.predict(features)\n",
    "    pred = np.argmax(pred)\n",
    "    predictions.append(class_dict[pred])\n",
    "\n",
    "print(predictions[:3])\n",
    "print(len(predictions))"
   ]
  },
  {
   "cell_type": "code",
   "execution_count": 13,
   "metadata": {
    "colab": {
     "base_uri": "https://localhost:8080/"
    },
    "executionInfo": {
     "elapsed": 634665,
     "status": "ok",
     "timestamp": 1620243562294,
     "user": {
      "displayName": "Hasib ZUNAIR -CANADA REMOTE SERVICES-",
      "photoUrl": "https://lh3.googleusercontent.com/a-/AOh14Gg5t1UlMQuu4THYm6vlk8LrS99LnrK8kLu6oP0g=s64",
      "userId": "15388620792406481246"
     },
     "user_tz": 240
    },
    "id": "6qm7dRdCoH8M",
    "outputId": "e5f491fe-f057-4638-a21a-f23eca069529"
   },
   "outputs": [
    {
     "name": "stdout",
     "output_type": "stream",
     "text": [
      "TST_0001.nii.gz , 2\n",
      "TST_0002.nii.gz , 1\n",
      "TST_0003.nii.gz , 5\n",
      "TST_0004.nii.gz , 1\n",
      "TST_0005.nii.gz , 5\n",
      "TST_0006.nii.gz , 4\n",
      "TST_0007.nii.gz , 2\n",
      "TST_0008.nii.gz , 1\n",
      "TST_0009.nii.gz , 1\n",
      "TST_0010.nii.gz , 2\n",
      "TST_0011.nii.gz , 3\n",
      "TST_0012.nii.gz , 1\n",
      "TST_0013.nii.gz , 2\n",
      "TST_0014.nii.gz , 3\n",
      "TST_0015.nii.gz , 1\n",
      "TST_0016.nii.gz , 1\n",
      "TST_0017.nii.gz , 4\n",
      "TST_0018.nii.gz , 2\n",
      "TST_0019.nii.gz , 2\n",
      "TST_0020.nii.gz , 2\n",
      "TST_0021.nii.gz , 1\n",
      "TST_0022.nii.gz , 2\n",
      "TST_0023.nii.gz , 1\n",
      "TST_0024.nii.gz , 5\n",
      "TST_0025.nii.gz , 1\n",
      "TST_0026.nii.gz , 2\n",
      "TST_0027.nii.gz , 1\n",
      "TST_0028.nii.gz , 1\n",
      "TST_0029.nii.gz , 4\n",
      "TST_0030.nii.gz , 1\n",
      "TST_0031.nii.gz , 5\n",
      "TST_0032.nii.gz , 5\n",
      "TST_0033.nii.gz , 1\n",
      "TST_0034.nii.gz , 1\n",
      "TST_0035.nii.gz , 1\n",
      "TST_0036.nii.gz , 2\n",
      "TST_0037.nii.gz , 1\n",
      "TST_0038.nii.gz , 1\n",
      "TST_0039.nii.gz , 5\n",
      "TST_0040.nii.gz , 4\n",
      "TST_0041.nii.gz , 1\n",
      "TST_0042.nii.gz , 2\n",
      "TST_0043.nii.gz , 1\n",
      "TST_0044.nii.gz , 4\n",
      "TST_0045.nii.gz , 1\n",
      "TST_0046.nii.gz , 5\n",
      "TST_0047.nii.gz , 1\n",
      "TST_0048.nii.gz , 1\n",
      "TST_0049.nii.gz , 2\n",
      "TST_0050.nii.gz , 1\n",
      "TST_0051.nii.gz , 5\n",
      "TST_0052.nii.gz , 4\n",
      "TST_0053.nii.gz , 1\n",
      "TST_0054.nii.gz , 1\n",
      "TST_0055.nii.gz , 2\n",
      "TST_0056.nii.gz , 5\n",
      "TST_0057.nii.gz , 1\n",
      "TST_0058.nii.gz , 1\n",
      "TST_0059.nii.gz , 1\n",
      "TST_0060.nii.gz , 2\n",
      "TST_0061.nii.gz , 4\n",
      "TST_0062.nii.gz , 3\n",
      "TST_0063.nii.gz , 2\n",
      "TST_0064.nii.gz , 5\n",
      "TST_0065.nii.gz , 1\n",
      "TST_0066.nii.gz , 1\n",
      "TST_0067.nii.gz , 2\n",
      "TST_0068.nii.gz , 5\n",
      "TST_0069.nii.gz , 1\n",
      "TST_0070.nii.gz , 1\n",
      "TST_0071.nii.gz , 2\n",
      "TST_0072.nii.gz , 4\n",
      "TST_0073.nii.gz , 3\n",
      "TST_0074.nii.gz , 3\n",
      "TST_0075.nii.gz , 1\n",
      "TST_0076.nii.gz , 5\n",
      "TST_0077.nii.gz , 1\n",
      "TST_0078.nii.gz , 2\n",
      "TST_0079.nii.gz , 1\n",
      "TST_0080.nii.gz , 3\n",
      "TST_0081.nii.gz , 4\n",
      "TST_0082.nii.gz , 1\n",
      "TST_0083.nii.gz , 5\n",
      "TST_0084.nii.gz , 1\n",
      "TST_0085.nii.gz , 2\n",
      "TST_0086.nii.gz , 4\n",
      "TST_0087.nii.gz , 1\n",
      "TST_0088.nii.gz , 1\n",
      "TST_0089.nii.gz , 1\n",
      "TST_0090.nii.gz , 1\n",
      "TST_0091.nii.gz , 1\n",
      "TST_0092.nii.gz , 3\n",
      "TST_0093.nii.gz , 5\n",
      "TST_0094.nii.gz , 1\n",
      "TST_0095.nii.gz , 1\n",
      "TST_0096.nii.gz , 1\n",
      "TST_0097.nii.gz , 2\n",
      "TST_0098.nii.gz , 2\n",
      "TST_0099.nii.gz , 3\n",
      "TST_0100.nii.gz , 1\n",
      "TST_0101.nii.gz , 5\n",
      "TST_0102.nii.gz , 1\n",
      "TST_0103.nii.gz , 3\n",
      "TST_0104.nii.gz , 1\n",
      "TST_0105.nii.gz , 1\n",
      "TST_0106.nii.gz , 1\n",
      "TST_0107.nii.gz , 2\n",
      "TST_0108.nii.gz , 1\n",
      "TST_0109.nii.gz , 4\n",
      "TST_0110.nii.gz , 2\n",
      "TST_0111.nii.gz , 1\n",
      "TST_0112.nii.gz , 2\n",
      "TST_0113.nii.gz , 1\n",
      "TST_0114.nii.gz , 5\n",
      "TST_0115.nii.gz , 2\n",
      "TST_0116.nii.gz , 1\n",
      "TST_0117.nii.gz , 2\n",
      "TST_0118.nii.gz , 1\n",
      "TST_0119.nii.gz , 4\n",
      "TST_0120.nii.gz , 1\n",
      "TST_0121.nii.gz , 1\n",
      "TST_0122.nii.gz , 1\n",
      "TST_0123.nii.gz , 2\n",
      "TST_0124.nii.gz , 5\n",
      "TST_0125.nii.gz , 2\n",
      "TST_0126.nii.gz , 1\n",
      "TST_0127.nii.gz , 2\n",
      "TST_0128.nii.gz , 2\n",
      "TST_0129.nii.gz , 1\n",
      "TST_0130.nii.gz , 5\n",
      "TST_0131.nii.gz , 2\n",
      "TST_0132.nii.gz , 1\n",
      "TST_0133.nii.gz , 2\n",
      "TST_0134.nii.gz , 5\n",
      "TST_0135.nii.gz , 1\n",
      "TST_0136.nii.gz , 1\n",
      "TST_0137.nii.gz , 1\n",
      "TST_0138.nii.gz , 2\n",
      "TST_0139.nii.gz , 4\n",
      "TST_0140.nii.gz , 1\n",
      "TST_0141.nii.gz , 4\n",
      "TST_0142.nii.gz , 1\n",
      "TST_0143.nii.gz , 5\n",
      "TST_0144.nii.gz , 4\n",
      "TST_0145.nii.gz , 3\n",
      "TST_0146.nii.gz , 1\n",
      "TST_0147.nii.gz , 1\n",
      "TST_0148.nii.gz , 1\n",
      "TST_0149.nii.gz , 1\n",
      "TST_0150.nii.gz , 4\n",
      "TST_0151.nii.gz , 1\n",
      "TST_0152.nii.gz , 1\n",
      "TST_0153.nii.gz , 1\n",
      "TST_0154.nii.gz , 1\n",
      "TST_0155.nii.gz , 5\n",
      "TST_0156.nii.gz , 4\n",
      "TST_0157.nii.gz , 5\n",
      "TST_0158.nii.gz , 3\n",
      "TST_0159.nii.gz , 2\n",
      "TST_0160.nii.gz , 2\n",
      "TST_0161.nii.gz , 5\n",
      "TST_0162.nii.gz , 3\n",
      "TST_0163.nii.gz , 2\n",
      "TST_0164.nii.gz , 1\n",
      "TST_0165.nii.gz , 1\n",
      "TST_0166.nii.gz , 1\n",
      "TST_0167.nii.gz , 2\n",
      "TST_0168.nii.gz , 3\n",
      "TST_0169.nii.gz , 1\n",
      "TST_0170.nii.gz , 1\n",
      "TST_0171.nii.gz , 2\n",
      "TST_0172.nii.gz , 1\n",
      "TST_0173.nii.gz , 2\n",
      "TST_0174.nii.gz , 4\n",
      "TST_0175.nii.gz , 5\n",
      "TST_0176.nii.gz , 4\n",
      "TST_0177.nii.gz , 1\n",
      "TST_0178.nii.gz , 1\n",
      "TST_0179.nii.gz , 1\n",
      "TST_0180.nii.gz , 2\n",
      "TST_0181.nii.gz , 2\n",
      "TST_0182.nii.gz , 1\n",
      "TST_0183.nii.gz , 2\n",
      "TST_0184.nii.gz , 4\n",
      "TST_0185.nii.gz , 4\n",
      "TST_0186.nii.gz , 1\n",
      "TST_0187.nii.gz , 3\n",
      "TST_0188.nii.gz , 1\n",
      "TST_0189.nii.gz , 1\n",
      "TST_0190.nii.gz , 3\n",
      "TST_0191.nii.gz , 3\n",
      "TST_0192.nii.gz , 1\n",
      "TST_0193.nii.gz , 2\n",
      "TST_0194.nii.gz , 1\n",
      "TST_0195.nii.gz , 4\n",
      "TST_0196.nii.gz , 1\n",
      "TST_0197.nii.gz , 2\n",
      "TST_0198.nii.gz , 2\n",
      "TST_0199.nii.gz , 1\n",
      "TST_0200.nii.gz , 1\n",
      "TST_0201.nii.gz , 1\n",
      "TST_0202.nii.gz , 1\n",
      "TST_0203.nii.gz , 5\n",
      "TST_0204.nii.gz , 3\n",
      "TST_0205.nii.gz , 2\n",
      "TST_0206.nii.gz , 1\n",
      "TST_0207.nii.gz , 4\n",
      "TST_0208.nii.gz , 2\n",
      "TST_0209.nii.gz , 1\n",
      "TST_0210.nii.gz , 3\n",
      "TST_0211.nii.gz , 3\n",
      "TST_0212.nii.gz , 1\n",
      "TST_0213.nii.gz , 1\n",
      "TST_0214.nii.gz , 1\n",
      "TST_0215.nii.gz , 2\n",
      "TST_0216.nii.gz , 3\n",
      "TST_0217.nii.gz , 4\n",
      "TST_0218.nii.gz , 1\n",
      "TST_0219.nii.gz , 1\n",
      "TST_0220.nii.gz , 4\n",
      "TST_0221.nii.gz , 1\n",
      "TST_0222.nii.gz , 2\n",
      "TST_0223.nii.gz , 3\n",
      "TST_0224.nii.gz , 1\n",
      "TST_0225.nii.gz , 1\n",
      "TST_0226.nii.gz , 5\n",
      "TST_0227.nii.gz , 2\n",
      "TST_0228.nii.gz , 4\n",
      "TST_0229.nii.gz , 1\n",
      "TST_0230.nii.gz , 1\n",
      "TST_0231.nii.gz , 3\n",
      "TST_0232.nii.gz , 4\n",
      "TST_0233.nii.gz , 2\n",
      "TST_0234.nii.gz , 1\n",
      "TST_0235.nii.gz , 2\n",
      "TST_0236.nii.gz , 1\n",
      "TST_0237.nii.gz , 3\n",
      "TST_0238.nii.gz , 1\n",
      "TST_0239.nii.gz , 1\n",
      "TST_0240.nii.gz , 5\n",
      "TST_0241.nii.gz , 1\n",
      "TST_0242.nii.gz , 2\n",
      "TST_0243.nii.gz , 2\n",
      "TST_0244.nii.gz , 5\n",
      "TST_0245.nii.gz , 3\n",
      "TST_0246.nii.gz , 3\n",
      "TST_0247.nii.gz , 1\n",
      "TST_0248.nii.gz , 1\n",
      "TST_0249.nii.gz , 2\n",
      "TST_0250.nii.gz , 1\n",
      "TST_0251.nii.gz , 1\n",
      "TST_0252.nii.gz , 1\n",
      "TST_0253.nii.gz , 2\n",
      "TST_0254.nii.gz , 2\n",
      "TST_0255.nii.gz , 3\n",
      "TST_0256.nii.gz , 1\n",
      "TST_0257.nii.gz , 3\n",
      "TST_0258.nii.gz , 2\n",
      "TST_0259.nii.gz , 2\n",
      "TST_0260.nii.gz , 1\n",
      "TST_0261.nii.gz , 1\n",
      "TST_0262.nii.gz , 1\n",
      "TST_0263.nii.gz , 3\n",
      "TST_0264.nii.gz , 2\n",
      "TST_0265.nii.gz , 1\n",
      "TST_0266.nii.gz , 1\n",
      "TST_0267.nii.gz , 1\n",
      "TST_0268.nii.gz , 1\n",
      "TST_0269.nii.gz , 1\n",
      "TST_0270.nii.gz , 1\n",
      "TST_0271.nii.gz , 5\n",
      "TST_0272.nii.gz , 2\n",
      "TST_0273.nii.gz , 1\n",
      "TST_0274.nii.gz , 4\n",
      "TST_0275.nii.gz , 3\n",
      "TST_0276.nii.gz , 2\n",
      "TST_0277.nii.gz , 3\n",
      "TST_0278.nii.gz , 4\n",
      "TST_0279.nii.gz , 1\n",
      "TST_0280.nii.gz , 3\n",
      "TST_0281.nii.gz , 2\n",
      "TST_0282.nii.gz , 1\n",
      "TST_0283.nii.gz , 2\n",
      "TST_0284.nii.gz , 2\n",
      "TST_0285.nii.gz , 1\n",
      "TST_0286.nii.gz , 1\n",
      "TST_0287.nii.gz , 1\n",
      "TST_0288.nii.gz , 2\n",
      "TST_0289.nii.gz , 3\n",
      "TST_0290.nii.gz , 1\n",
      "TST_0291.nii.gz , 4\n",
      "TST_0292.nii.gz , 4\n",
      "TST_0293.nii.gz , 1\n",
      "TST_0294.nii.gz , 1\n",
      "TST_0295.nii.gz , 3\n",
      "TST_0296.nii.gz , 1\n",
      "TST_0297.nii.gz , 1\n",
      "TST_0298.nii.gz , 1\n",
      "TST_0299.nii.gz , 4\n",
      "TST_0300.nii.gz , 1\n",
      "TST_0301.nii.gz , 1\n",
      "TST_0302.nii.gz , 1\n",
      "TST_0303.nii.gz , 1\n",
      "TST_0304.nii.gz , 1\n",
      "TST_0305.nii.gz , 1\n",
      "TST_0306.nii.gz , 2\n",
      "TST_0307.nii.gz , 2\n",
      "TST_0308.nii.gz , 1\n",
      "TST_0309.nii.gz , 1\n",
      "TST_0310.nii.gz , 1\n",
      "TST_0311.nii.gz , 2\n",
      "TST_0312.nii.gz , 1\n",
      "TST_0313.nii.gz , 1\n",
      "TST_0314.nii.gz , 1\n",
      "TST_0315.nii.gz , 2\n",
      "TST_0316.nii.gz , 1\n",
      "TST_0317.nii.gz , 5\n",
      "TST_0318.nii.gz , 4\n",
      "TST_0319.nii.gz , 1\n",
      "TST_0320.nii.gz , 2\n",
      "TST_0321.nii.gz , 3\n",
      "TST_0322.nii.gz , 1\n",
      "TST_0323.nii.gz , 4\n",
      "TST_0324.nii.gz , 2\n",
      "TST_0325.nii.gz , 1\n",
      "TST_0326.nii.gz , 1\n",
      "TST_0327.nii.gz , 1\n",
      "TST_0328.nii.gz , 1\n",
      "TST_0329.nii.gz , 1\n",
      "TST_0330.nii.gz , 2\n",
      "TST_0331.nii.gz , 3\n",
      "TST_0332.nii.gz , 3\n",
      "TST_0333.nii.gz , 1\n",
      "TST_0334.nii.gz , 1\n",
      "TST_0335.nii.gz , 4\n",
      "TST_0336.nii.gz , 1\n",
      "TST_0337.nii.gz , 1\n",
      "TST_0338.nii.gz , 1\n",
      "TST_0339.nii.gz , 2\n",
      "TST_0340.nii.gz , 1\n",
      "TST_0341.nii.gz , 1\n",
      "TST_0342.nii.gz , 2\n",
      "TST_0343.nii.gz , 1\n",
      "TST_0344.nii.gz , 5\n",
      "TST_0345.nii.gz , 1\n",
      "TST_0346.nii.gz , 1\n",
      "TST_0347.nii.gz , 1\n",
      "TST_0348.nii.gz , 1\n",
      "TST_0349.nii.gz , 1\n",
      "TST_0350.nii.gz , 1\n",
      "TST_0351.nii.gz , 2\n",
      "TST_0352.nii.gz , 4\n",
      "TST_0353.nii.gz , 1\n",
      "TST_0354.nii.gz , 1\n",
      "TST_0355.nii.gz , 4\n",
      "TST_0356.nii.gz , 4\n",
      "TST_0357.nii.gz , 5\n",
      "TST_0358.nii.gz , 1\n",
      "TST_0359.nii.gz , 4\n",
      "TST_0360.nii.gz , 4\n",
      "TST_0361.nii.gz , 1\n",
      "TST_0362.nii.gz , 1\n",
      "TST_0363.nii.gz , 5\n",
      "TST_0364.nii.gz , 2\n",
      "TST_0365.nii.gz , 4\n",
      "TST_0366.nii.gz , 1\n",
      "TST_0367.nii.gz , 1\n",
      "TST_0368.nii.gz , 2\n",
      "TST_0369.nii.gz , 4\n",
      "TST_0370.nii.gz , 1\n",
      "TST_0371.nii.gz , 1\n",
      "TST_0372.nii.gz , 1\n",
      "TST_0373.nii.gz , 1\n",
      "TST_0374.nii.gz , 5\n",
      "TST_0375.nii.gz , 4\n",
      "TST_0376.nii.gz , 1\n",
      "TST_0377.nii.gz , 1\n",
      "TST_0378.nii.gz , 2\n",
      "TST_0379.nii.gz , 5\n",
      "TST_0380.nii.gz , 1\n",
      "TST_0381.nii.gz , 2\n",
      "TST_0382.nii.gz , 1\n",
      "TST_0383.nii.gz , 5\n",
      "TST_0384.nii.gz , 1\n",
      "TST_0385.nii.gz , 5\n",
      "TST_0386.nii.gz , 1\n",
      "TST_0387.nii.gz , 2\n",
      "TST_0388.nii.gz , 1\n",
      "TST_0389.nii.gz , 1\n",
      "TST_0390.nii.gz , 2\n",
      "TST_0391.nii.gz , 1\n",
      "TST_0392.nii.gz , 3\n",
      "TST_0393.nii.gz , 2\n",
      "TST_0394.nii.gz , 2\n",
      "TST_0395.nii.gz , 4\n",
      "TST_0396.nii.gz , 1\n",
      "TST_0397.nii.gz , 5\n",
      "TST_0398.nii.gz , 1\n",
      "TST_0399.nii.gz , 1\n",
      "TST_0400.nii.gz , 2\n",
      "TST_0401.nii.gz , 2\n",
      "TST_0402.nii.gz , 2\n",
      "TST_0403.nii.gz , 4\n",
      "TST_0404.nii.gz , 1\n",
      "TST_0405.nii.gz , 3\n",
      "TST_0406.nii.gz , 5\n",
      "TST_0407.nii.gz , 1\n",
      "TST_0408.nii.gz , 1\n",
      "TST_0409.nii.gz , 1\n",
      "TST_0410.nii.gz , 4\n",
      "TST_0411.nii.gz , 1\n",
      "TST_0412.nii.gz , 1\n",
      "TST_0413.nii.gz , 2\n",
      "TST_0414.nii.gz , 1\n",
      "TST_0415.nii.gz , 4\n",
      "TST_0416.nii.gz , 1\n",
      "TST_0417.nii.gz , 2\n",
      "TST_0418.nii.gz , 2\n",
      "TST_0419.nii.gz , 3\n",
      "TST_0420.nii.gz , 4\n",
      "TST_0421.nii.gz , 1\n"
     ]
    }
   ],
   "source": [
    "with open('{}/{}_submission.txt'.format(LOG_PATH, CFG_NAME), 'w') as f:\n",
    "    for n, p in zip(PATIENT_NAMES, predictions):\n",
    "        print(n,\",\", p)\n",
    "        f.write(str(n))\n",
    "        f.write(\",\")\n",
    "        f.write(str(p))\n",
    "        f.write(\"\\n\")\n",
    "        \n",
    "f.close()"
   ]
  },
  {
   "cell_type": "code",
   "execution_count": 14,
   "metadata": {
    "colab": {
     "base_uri": "https://localhost:8080/"
    },
    "executionInfo": {
     "elapsed": 634298,
     "status": "ok",
     "timestamp": 1620243562539,
     "user": {
      "displayName": "Hasib ZUNAIR -CANADA REMOTE SERVICES-",
      "photoUrl": "https://lh3.googleusercontent.com/a-/AOh14Gg5t1UlMQuu4THYm6vlk8LrS99LnrK8kLu6oP0g=s64",
      "userId": "15388620792406481246"
     },
     "user_tz": 240
    },
    "id": "KUe__x5Ok_62",
    "outputId": "11b2650e-f8bd-4af7-dc35-ea78eb094d90"
   },
   "outputs": [
    {
     "name": "stdout",
     "output_type": "stream",
     "text": [
      "Done!\n"
     ]
    }
   ],
   "source": [
    "print(\"Done!\")"
   ]
  },
  {
   "cell_type": "code",
   "execution_count": null,
   "metadata": {
    "id": "nal1F7U9k_9c"
   },
   "outputs": [],
   "source": []
  }
 ],
 "metadata": {
  "accelerator": "GPU",
  "colab": {
   "authorship_tag": "ABX9TyO+SSeGkq/ich7WnaItAG12",
   "collapsed_sections": [],
   "name": "test.ipynb",
   "provenance": []
  },
  "kernelspec": {
   "display_name": "Python 3",
   "language": "python",
   "name": "python3"
  },
  "language_info": {
   "codemirror_mode": {
    "name": "ipython",
    "version": 3
   },
   "file_extension": ".py",
   "mimetype": "text/x-python",
   "name": "python",
   "nbconvert_exporter": "python",
   "pygments_lexer": "ipython3",
   "version": "3.6.10"
  }
 },
 "nbformat": 4,
 "nbformat_minor": 4
}
