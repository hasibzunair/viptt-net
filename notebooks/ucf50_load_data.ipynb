{
 "cells": [
  {
   "cell_type": "markdown",
   "metadata": {},
   "source": [
    "Download data from: https://www.crcv.ucf.edu/data/UCF50.php"
   ]
  },
  {
   "cell_type": "code",
   "execution_count": 5,
   "metadata": {},
   "outputs": [],
   "source": [
    "import keras\n",
    "from keras import applications\n",
    "from keras.preprocessing.image import ImageDataGenerator\n",
    "from keras import optimizers\n",
    "from keras.models import Sequential, Model \n",
    "from keras.layers import *\n",
    "from keras.callbacks import ModelCheckpoint, LearningRateScheduler, TensorBoard, EarlyStopping\n",
    " \n",
    "import os\n",
    "import cv2\n",
    "import numpy as np\n",
    "from sklearn.model_selection import train_test_split\n",
    "\n",
    "from sklearn.metrics import accuracy_score\n",
    "from sklearn.metrics import precision_score\n",
    "from sklearn.metrics import recall_score\n",
    "from sklearn.metrics import f1_score\n",
    "from sklearn.metrics import cohen_kappa_score\n",
    "from sklearn.metrics import roc_auc_score\n",
    "from sklearn.metrics import multilabel_confusion_matrix"
   ]
  },
  {
   "cell_type": "code",
   "execution_count": null,
   "metadata": {},
   "outputs": [],
   "source": []
  },
  {
   "cell_type": "code",
   "execution_count": 6,
   "metadata": {},
   "outputs": [],
   "source": [
    "data_all = \"dataset/UCF50/\""
   ]
  },
  {
   "cell_type": "code",
   "execution_count": 7,
   "metadata": {},
   "outputs": [],
   "source": [
    "all_classes = os.listdir(data_all)"
   ]
  },
  {
   "cell_type": "code",
   "execution_count": 8,
   "metadata": {},
   "outputs": [
    {
     "data": {
      "text/plain": [
       "['Mixing',\n",
       " 'TennisSwing',\n",
       " 'HorseRiding',\n",
       " 'JumpRope',\n",
       " 'JumpingJack',\n",
       " 'BaseballPitch',\n",
       " 'Rowing',\n",
       " 'SkateBoarding',\n",
       " 'WalkingWithDog',\n",
       " 'Skijet']"
      ]
     },
     "execution_count": 8,
     "metadata": {},
     "output_type": "execute_result"
    }
   ],
   "source": [
    "classes_20 = all_classes[:10]\n",
    "classes_20"
   ]
  },
  {
   "cell_type": "code",
   "execution_count": 9,
   "metadata": {},
   "outputs": [
    {
     "data": {
      "text/plain": [
       "10"
      ]
     },
     "execution_count": 9,
     "metadata": {},
     "output_type": "execute_result"
    }
   ],
   "source": [
    "len(classes_20)"
   ]
  },
  {
   "cell_type": "code",
   "execution_count": 10,
   "metadata": {},
   "outputs": [],
   "source": [
    "data_dir = \"dataset/UCF50\"\n",
    "#data_dir = \"dataset/UCF50_subset/\"\n",
    "img_height , img_width = 224, 224\n",
    "seq_len = 70\n",
    " \n",
    "#classes = [\"Apply Eye Makeup\", \"Archery\", \"Apply Lipstick\", \"Baby Crawling\", \"Balance Beam\", \"Band Marching\"]\n",
    "#classes = [\"Basketball\", \"HighJump\", \"GolfSwing\", \"HorseRace\", \"Kayaking\", \"Skiing\"]\n",
    "classes = classes_20\n",
    "\n",
    "\n",
    "\n",
    "#  Creating frames from videos\n",
    "\n",
    "def frames_extraction(video_path):\n",
    "    frames_list = []\n",
    "     \n",
    "    vidObj = cv2.VideoCapture(video_path)\n",
    "    # Used as counter variable \n",
    "    count = 1\n",
    " \n",
    "    while count <= seq_len: \n",
    "         \n",
    "        success, image = vidObj.read() \n",
    "        if success:\n",
    "            image = cv2.resize(image, (img_height, img_width))\n",
    "            # Convert to grayscale\n",
    "            image = cv2.cvtColor(image, cv2.COLOR_BGR2GRAY)\n",
    "            frames_list.append(image)\n",
    "            count += 1\n",
    "        else:\n",
    "            print(\"Defected frame\")\n",
    "            break\n",
    " \n",
    "            \n",
    "    return frames_list\n",
    " \n",
    "def create_data(input_dir):\n",
    "    X = []\n",
    "    Y = []\n",
    "     \n",
    "    classes_list = classes_20 #os.listdir(input_dir)\n",
    "     \n",
    "    for c in classes_list:\n",
    "        print(c)\n",
    "        files_list = os.listdir(os.path.join(input_dir, c))\n",
    "        for f in files_list:\n",
    "            frames = frames_extraction(os.path.join(os.path.join(input_dir, c), f))\n",
    "            if len(frames) == seq_len:\n",
    "                X.append(frames)\n",
    "             \n",
    "                y = [0]*len(classes)\n",
    "                y[classes.index(c)] = 1\n",
    "                Y.append(y)\n",
    "     \n",
    "    X = np.asarray(X)\n",
    "    Y = np.asarray(Y)\n",
    "    return X, Y"
   ]
  },
  {
   "cell_type": "code",
   "execution_count": 11,
   "metadata": {},
   "outputs": [
    {
     "data": {
      "text/plain": [
       "'dataset/UCF50/'"
      ]
     },
     "execution_count": 11,
     "metadata": {},
     "output_type": "execute_result"
    }
   ],
   "source": [
    "DATASET_PATH = data_all\n",
    "DATASET_PATH"
   ]
  },
  {
   "cell_type": "code",
   "execution_count": 12,
   "metadata": {},
   "outputs": [
    {
     "name": "stdout",
     "output_type": "stream",
     "text": [
      "Mixing\n",
      "Defected frame\n",
      "TennisSwing\n",
      "Defected frame\n",
      "Defected frame\n",
      "Defected frame\n",
      "HorseRiding\n",
      "Defected frame\n",
      "JumpRope\n",
      "JumpingJack\n",
      "Defected frame\n",
      "Defected frame\n",
      "Defected frame\n",
      "Defected frame\n",
      "Defected frame\n",
      "Defected frame\n",
      "Defected frame\n",
      "Defected frame\n",
      "Defected frame\n",
      "Defected frame\n",
      "Defected frame\n",
      "Defected frame\n",
      "Defected frame\n",
      "Defected frame\n",
      "Defected frame\n",
      "Defected frame\n",
      "Defected frame\n",
      "Defected frame\n",
      "Defected frame\n",
      "BaseballPitch\n",
      "Defected frame\n",
      "Defected frame\n",
      "Defected frame\n",
      "Defected frame\n",
      "Defected frame\n",
      "Defected frame\n",
      "Defected frame\n",
      "Defected frame\n",
      "Defected frame\n",
      "Defected frame\n",
      "Defected frame\n",
      "Defected frame\n",
      "Defected frame\n",
      "Defected frame\n",
      "Defected frame\n",
      "Rowing\n",
      "SkateBoarding\n",
      "Defected frame\n",
      "WalkingWithDog\n",
      "Skijet\n",
      "(1366, 70, 224, 224) (1366, 10)\n"
     ]
    }
   ],
   "source": [
    "X, Y = create_data(data_dir)\n",
    "print(X.shape, Y.shape)\n",
    "\n",
    "np.save(\"{}/ucf10_videos.npy\".format(DATASET_PATH), X)\n",
    "np.save(\"{}/ucf10_labels.npy\".format(DATASET_PATH), Y)"
   ]
  },
  {
   "cell_type": "code",
   "execution_count": null,
   "metadata": {},
   "outputs": [],
   "source": []
  },
  {
   "cell_type": "code",
   "execution_count": null,
   "metadata": {},
   "outputs": [],
   "source": [
    "X_train, X_test, y_train, y_test = train_test_split(X, Y, test_size=0.20, shuffle=True, random_state=0)"
   ]
  },
  {
   "cell_type": "code",
   "execution_count": null,
   "metadata": {},
   "outputs": [],
   "source": [
    "print(X_train.shape, X_test.shape, y_train.shape, y_test.shape)"
   ]
  },
  {
   "cell_type": "code",
   "execution_count": null,
   "metadata": {},
   "outputs": [],
   "source": []
  },
  {
   "cell_type": "code",
   "execution_count": null,
   "metadata": {},
   "outputs": [],
   "source": []
  },
  {
   "cell_type": "code",
   "execution_count": null,
   "metadata": {},
   "outputs": [],
   "source": []
  }
 ],
 "metadata": {
  "kernelspec": {
   "display_name": "Python 3",
   "language": "python",
   "name": "python3"
  },
  "language_info": {
   "codemirror_mode": {
    "name": "ipython",
    "version": 3
   },
   "file_extension": ".py",
   "mimetype": "text/x-python",
   "name": "python",
   "nbconvert_exporter": "python",
   "pygments_lexer": "ipython3",
   "version": "3.8.5"
  }
 },
 "nbformat": 4,
 "nbformat_minor": 4
}
